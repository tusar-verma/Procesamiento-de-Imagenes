{
  "cells": [
    {
      "cell_type": "markdown",
      "metadata": {
        "id": "rJZbOXFZ8y4m"
      },
      "source": [
        "### Configuracion"
      ]
    },
    {
      "cell_type": "code",
      "execution_count": null,
      "metadata": {
        "id": "Z9g8RstMOkLI"
      },
      "outputs": [],
      "source": [
        "import numpy as np\n",
        "import cmath\n",
        "import math\n",
        "import matplotlib.pyplot as plt\n",
        "\n",
        "from skimage.draw import rectangle, line\n",
        "from skimage.transform import rotate\n",
        "import skimage.io as io\n",
        "\n",
        "import os"
      ]
    },
    {
      "cell_type": "markdown",
      "metadata": {
        "id": "HaZLOjZ1wXFw"
      },
      "source": [
        "### Ejemplo de Numeros Imaginarios"
      ]
    },
    {
      "cell_type": "code",
      "execution_count": null,
      "metadata": {
        "colab": {
          "base_uri": "https://localhost:8080/"
        },
        "id": "bvmDIpeVRzzP",
        "outputId": "7e5851c2-d1ad-45b8-d0d9-933dca81345f"
      },
      "outputs": [],
      "source": [
        "x = 5\n",
        "y = 3\n",
        "\n",
        "# creamos a z = x + iy\n",
        "z = x + 1j * y\n",
        "\n",
        "# imprimimos la parte Real e Imaginaria. T\n",
        "print(\"La parte real del numero es:\", z.real)\n",
        "print(\"La parte imaginaria del numero es:\", z.imag)\n",
        "\n",
        "print()\n",
        "\n",
        "# Numpy tambien acepta operar con numeros complejos\n",
        "arregloReales = np.random.randint(size=4,low=-10, high=10)\n",
        "arregloImaginarios = np.random.randint(size=4,low=-10, high=10) * 1j\n",
        "arregloComplejo = arregloReales + arregloImaginarios\n",
        "\n",
        "print(\"Arreglo Complejo\")\n",
        "print(arregloComplejo)\n",
        "\n",
        "print(\"Parte Real\")\n",
        "print(np.real(arregloComplejo))\n",
        "\n",
        "print(\"Parte Imaginaria\")\n",
        "print(np.imag(arregloComplejo))\n"
      ]
    },
    {
      "cell_type": "markdown",
      "metadata": {
        "id": "AVMtiIp3OHvN"
      },
      "source": [
        "### 1. Graficar las bases de la Transformada de Fourier de dimensión 8 en 1-D y de dimensión 8 × 8 en 2-D"
      ]
    },
    {
      "cell_type": "code",
      "execution_count": null,
      "metadata": {
        "colab": {
          "base_uri": "https://localhost:8080/",
          "height": 563
        },
        "collapsed": true,
        "id": "GPIB1tZGOBWw",
        "outputId": "2a50544c-2283-4df7-cf1f-f756a79b2b07"
      },
      "outputs": [],
      "source": [
        "#Numero de Muestras de la senal\n",
        "N = 8\n",
        "\n",
        "#Opciones para graficar\n",
        "#Velocidad del sampleo\n",
        "sampleoRate = 1/100\n",
        "#Cuantos sampleos se haran\n",
        "sampleoGrafico = int(N/sampleoRate)\n",
        "\n",
        "#Inicializamos un arreglo para guardar cada base y su evolucion\n",
        "bases1D = np.zeros((N,sampleoGrafico)) * 1j\n",
        "\n",
        "#Recorremos cada frecuencia\n",
        "for frecuencia in range(0,N):\n",
        "  for i in range(sampleoGrafico):\n",
        "    # Por cada vemos como avanza en el tiempo para luego plotearla\n",
        "    t = i*sampleoRate\n",
        "    frecuenciaAngular = ((2*np.pi)/N) * (frecuencia)\n",
        "    # Calculamos la parte real e imaginaria de la base.\n",
        "    bases1D[frecuencia][i] = np.exp(1j * frecuenciaAngular * t)\n",
        "\n",
        "fig, axes = plt.subplots(2,4, figsize=(10, 5),sharex=True, sharey=True, layout=\"constrained\")\n",
        "for base in range(N):\n",
        "  axes[base//4][base%4].plot(np.arange(0,sampleoGrafico*sampleoRate,sampleoRate),np.real(bases1D[base]))\n",
        "  axes[base//4][base%4].plot(np.arange(0,sampleoGrafico*sampleoRate,sampleoRate),np.imag(bases1D[base]))\n",
        "  for sample in range(N):\n",
        "    # Mostramos que valor tiene cada base al momento del sampleo de las N.\n",
        "    axes[base//4][base%4].axvline(x = sample, ymin=0.02, ymax=0.99  , color = 'r', ls='--', lw=0.5)\n",
        "\n",
        "fig.legend()\n"
      ]
    },
    {
      "cell_type": "code",
      "execution_count": null,
      "metadata": {
        "colab": {
          "base_uri": "https://localhost:8080/",
          "height": 962
        },
        "collapsed": true,
        "id": "ZBON_rH7i9io",
        "outputId": "1b2a8052-7a32-4279-c2a6-f5929eccb08f"
      },
      "outputs": [],
      "source": [
        "# Ploteo de las bases en 2D\n",
        "#Definimos el sampleo horizontal y vertical\n",
        "N = 6\n",
        "M = 6\n",
        "#Configuramos los valores para graficar\n",
        "sampleoRate = 1/20\n",
        "sampleoGrafico = int(N/sampleoRate)\n",
        "\n",
        "#Ahora nuestras bases seran matrices, no arreglos\n",
        "bases2D = np.zeros((N,M,sampleoGrafico,sampleoGrafico)) * 1j\n",
        "\n",
        "for frecuenciaX in range(0,N):\n",
        "  for frecuenciaY in range(0,M):\n",
        "    for intervaloX in range(sampleoGrafico):\n",
        "      for intervaloY in range(sampleoGrafico):\n",
        "        # Calculamos como la base avanza en el tiempo y guardamos su valor\n",
        "        tX = intervaloX*sampleoRate\n",
        "        tY = intervaloY*sampleoRate\n",
        "        frecuenciaAngularX = (2*np.pi*frecuenciaX /N)\n",
        "        frecuenciaAngularY = (2*np.pi*frecuenciaY /M)\n",
        "        angulo = frecuenciaAngularX * tX + frecuenciaAngularY * tY\n",
        "        bases2D[frecuenciaX][frecuenciaY][intervaloX][intervaloY] = np.exp(angulo * 1j)\n",
        "\n",
        "fig, axes = plt.subplots(N,M, figsize=(20, 10),sharex=True, sharey=True, layout=\"constrained\")\n",
        "for baseX in range(N):\n",
        "  for baseY in range(M):\n",
        "    axes[baseX][baseY].matshow(np.real(bases2D[baseX][baseY]),cmap=plt.cm.gray)\n"
      ]
    },
    {
      "cell_type": "markdown",
      "metadata": {
        "id": "bYxV6tyn5cGR"
      },
      "source": [
        "### Implementar la DFT en 1D\n",
        "\n",
        "Visualizacion interactiva entre la relacion de los numeros complejos y los caminos circulares: [betterexplained.com](https://betterexplained.com/examples/fourier/)"
      ]
    },
    {
      "cell_type": "code",
      "execution_count": null,
      "metadata": {
        "id": "T8yz2NYU53d2"
      },
      "outputs": [],
      "source": [
        "\"\"\"La funcion debe devolver un arreglo con la magnitud de la frecuencia y tambien su Fase\"\"\"\n",
        "def DFT_1D(senal):\n",
        "  F = np.zeros(senal.size, dtype=np.complex_)\n",
        "  N = senal.shape[0]\n",
        "  # Realizamos el producto interno entre cada base y la senal original\n",
        "  for k in range(N):\n",
        "    val = 0\n",
        "    for n in range(N):\n",
        "        val = val + senal[n]*np.exp(-2*np.pi*1j*(n*k)/N)\n",
        "    val = val / np.sqrt(N)\n",
        "    F[k] = val\n",
        "\n",
        "  Fmagnitud = np.zeros(senal.size)\n",
        "  Fangulo = np.zeros(senal.size)\n",
        "  # Calculamas el modulo y la fase del numero complejo\n",
        "  for k in range(N):\n",
        "    Fmagnitud[k] = np.linalg.norm(F[k])\n",
        "    if (F[k].imag != 0):\n",
        "      Fangulo[k] = np.arctan(F[k].real/F[k].imag)\n",
        "  return Fmagnitud,Fangulo\n",
        "\n",
        "def IDFT_1D(senalModulo, senalFase):\n",
        "  # Realizamos la sumatoria entre cada base y su proyeccion\n",
        "  N = senalModulo.size\n",
        "  f = np.zeros(senalModulo.size, dtype=np.complex_)\n",
        "  for k in range(N):\n",
        "    val = 0\n",
        "    for n in range(N):\n",
        "      val = val + senalModulo[n]*np.exp(1j*senalFase[n])*np.exp(2*np.pi*k*n/N)\n",
        "    val = val / np.sqrt(N)\n",
        "    f[k] = val\n",
        "  # obteniendo la imagen original\n",
        "  return f"
      ]
    },
    {
      "cell_type": "code",
      "execution_count": null,
      "metadata": {
        "id": "pKh8Hj6mdTCJ"
      },
      "outputs": [],
      "source": [
        "def filtrado_frecuencias(senalModulo, frec=\"alta\"):\n",
        "  minimo = np.min(senalModulo)\n",
        "  maximo = np.max(senalModulo)\n",
        "  tamfrac = (maximo-minimo)/3\n",
        "  divalta = minimo + tamfrac*2\n",
        "  divbaja = minimo + tamfrac\n",
        "\n",
        "  senalfiltrada = np.zeros(senalModulo.size)\n",
        "  for i in range(senalModulo.size):\n",
        "    if(frec==\"alta\" and senalModulo[i]<divalta):\n",
        "      senalfiltrada[i] = senalModulo[i]\n",
        "    if(frec==\"inter\" and senalModulo[i]>divalta and senalModulo[i]<divbaja):\n",
        "      senalfiltrada[i] = senalModulo[i]\n",
        "    if(frec==\"baja\" and senalModulo[i]>divbaja):\n",
        "      senalfiltrada[i] = senalModulo[i]\n",
        "  return senalfiltrada"
      ]
    },
    {
      "cell_type": "code",
      "execution_count": 17,
      "metadata": {
        "colab": {
          "base_uri": "https://localhost:8080/",
          "height": 436
        },
        "id": "8AI3bdyO79-i",
        "outputId": "a1946eee-c38f-4168-91d9-898f30cfb8fd"
      },
      "outputs": [
        {
          "name": "stderr",
          "output_type": "stream",
          "text": [
            "/tmp/ipykernel_122375/339796473.py:19: RuntimeWarning: divide by zero encountered in scalar divide\n",
            "  Fangulo[k] = np.arctan(F[k].real/F[k].imag)\n"
          ]
        },
        {
          "data": {
            "image/png": "[encoded data removed]",
            "text/plain": [
              "<Figure size 1000x1000 with 4 Axes>"
            ]
          },
          "metadata": {},
          "output_type": "display_data"
        }
      ],
      "source": [
        "senal = np.array([1, 1, 1, 1, 1, 1, 1, 1, 1, 0, 0, 0, 0, 0, 0, 0])\n",
        "senalModulo, senalFase = DFT_1D(senal)\n",
        "\n",
        "## Suprimir Frecuencias Altas\n",
        "senalModuloSinAltas = filtrado_frecuencias(senal,\"alta\")\n",
        "senalSinAltas = IDFT_1D(senalModuloSinAltas,senalFase)\n",
        "\n",
        "## Suprimir Frecuencias Intermedias\n",
        "senalModuloSinIntermedias = filtrado_frecuencias(senal,\"inter\")\n",
        "senalSinAltas = IDFT_1D(senalModuloSinIntermedias,senalFase)\n",
        "\n",
        "## Suprimir Frecuencias Bajas\n",
        "senalModuloSinBajas = filtrado_frecuencias(senal,\"baja\")\n",
        "senalSinAltas = IDFT_1D(senalModuloSinBajas,senalFase)\n",
        "\n",
        "\n",
        "fig, axes = plt.subplots(1, 4, figsize=(10, 10),sharex=True, sharey=True, layout=\"constrained\")\n",
        "axes[0].plot(range(senal.shape[0]), senal)\n",
        "axes[1].plot(range(senal.shape[0]), senalSinAltas)\n",
        "axes[2].plot(range(senal.shape[0]), senalModuloSinIntermedias)\n",
        "axes[3].plot(range(senal.shape[0]), senalModuloSinBajas)\n",
        "plt.show()\n"
      ]
    },
    {
      "cell_type": "markdown",
      "metadata": {
        "id": "sL_u1UAitr9m"
      },
      "source": [
        "## Generar 10 imágenes y hacer la DFT y la IDFT de cada una\n",
        "\n",
        "\n",
        "\n",
        "\n",
        "\n",
        "\n",
        "\n"
      ]
    },
    {
      "cell_type": "code",
      "execution_count": null,
      "metadata": {
        "id": "6pziQNAJ4Ukg"
      },
      "outputs": [],
      "source": [
        "\"\"\"\n",
        "Recuerden que DFT devuelve numeros complejos, en este caso querremos devolver 2\n",
        "matrices, la primera contendra la magnitud del numero en la frecuencia y la segunda\n",
        "contendra su angulo\n",
        "\"\"\"\n",
        "def DFT_2D(imagen):\n",
        "  F = np.zeros(senal.shape)\n",
        "  N = senal.shape[0]\n",
        "  # Realizamos el producto interno entre cada base y la senal original\n",
        "  bases = []\n",
        "  for k in range(N):\n",
        "    for l in range(N):\n",
        "      val = 0\n",
        "      for n in range(N):\n",
        "        for m in range(N):\n",
        "          val = val + senal[n][m]*np.exp(-2*np.pi*1j*(m*k+n*l))\n",
        "      val = val / N\n",
        "      F[k,l] = val\n",
        "\n",
        "  Fmagnitud = np.zeros(senal.shape)\n",
        "  Fangulo = np.zeros(senal.shape)\n",
        "  # Calculamas el modulo y la fase del numero complejo\n",
        "  for k in range(N):\n",
        "    for l in range(N):\n",
        "      Fmagnitud = F[k,l]\n",
        "  pass\n",
        "\n",
        "def IDFT_2D(frecuenciasMagnitud, frecuenciasAngulo):\n",
        "  pass"
      ]
    },
    {
      "cell_type": "code",
      "execution_count": null,
      "metadata": {
        "id": "C0-7Ab7B3gGE"
      },
      "outputs": [],
      "source": [
        "def mostrarDFTyIDFT(imagenOriginal):\n",
        "  ## Aplicar DFS a la imagen\n",
        "  dfsImagenMagnitud, dfsImagenPhase = DFT_2D(imagenOriginal)\n",
        "  imagenReconstruida = IDFT_2D(dfsImagenMagnitud, dfsImagenPhase)\n",
        "\n",
        "  fig, axes = plt.subplots(2,2, figsize=(10, 10),sharex=True, sharey=True, layout=\"constrained\")\n",
        "  axes[0][0].matshow(imagenCuadradoTransladado, cmap=plt.cm.gray)\n",
        "  axes[0][1].matshow(dfsImagenMagnitud, cmap=plt.cm.gray)\n",
        "  axes[0][2].matshow(dfsImagenPhase, cmap=plt.cm.gray)\n",
        "  axes[0][3].matshow(imagenReconstruida, cmap=plt.cm.gray)\n"
      ]
    },
    {
      "cell_type": "code",
      "execution_count": null,
      "metadata": {
        "id": "90oQ_qPQtrmb"
      },
      "outputs": [],
      "source": [
        "#Indicamos el tamano de la imagen\n",
        "dimensionImagen = 100\n",
        "\n",
        "#### Cuadrado transladado ####\n",
        "#Creamos una imagen vacia\n",
        "imagenCuadradoTransladado = np.zeros((dimensionImagen, dimensionImagen), dtype=np.uint8)\n",
        "#inciamos donde iniciara el cuadrado\n",
        "start = (20,40)\n",
        "#Dado el tamano de los lados y su punto de inicio, nos devuelve las filas y columnas que ocupara\n",
        "rr, cc = rectangle(start, extent=(20, 20))\n",
        "#Pintamos esas celdas de blanco\n",
        "imagenCuadradoTransladado[rr, cc] = 255\n",
        "\n",
        "mostrarDFTyIDFT(imagenCuadradoTransladado)\n",
        "\n",
        "#### Cuadrado transladado ####\n",
        "imagenCuadradoCentral = np.zeros((dimensionImagen, dimensionImagen), dtype=np.uint8)\n",
        "mostrarDFTyIDFT(imagenCuadradoCentral)\n",
        "\n",
        "#### Rectangulo ####\n",
        "imagenRectangulo = np.zeros((dimensionImagen, dimensionImagen), dtype=np.uint8)\n",
        "mostrarDFTyIDFT(imagenRectangulo)\n",
        "\n",
        "#### 2 Rectangulos ####\n",
        "imagenDosRectangulo = np.zeros((dimensionImagen, dimensionImagen), dtype=np.uint8)\n",
        "mostrarDFTyIDFT(imagenDosRectangulo)\n",
        "\n",
        "#### Linea Vertical ####\n",
        "imagenLineaVertical = np.zeros((dimensionImagen, dimensionImagen), dtype=np.uint8)\n",
        "#indicamos el punto de inicio y el final de la linea\n",
        "rr, cc = line(40, 20, 40, 90)\n",
        "imagenLineaVertical[rr, cc] = 255\n",
        "\n",
        "mostrarDFTyIDFT(imagenLineaVertical)\n",
        "\n",
        "\n",
        "#### Linea 45' ####\n",
        "imagenLinea45 = np.zeros((dimensionImagen, dimensionImagen), dtype=np.uint8)\n",
        "mostrarDFTyIDFT(imagenLinea45)\n",
        "\n",
        "#### Linea 90' ####\n",
        "imagenLinea90 = np.zeros((dimensionImagen, dimensionImagen), dtype=np.uint8)\n",
        "mostrarDFTyIDFT(imagenLinea90)\n",
        "\n",
        "#### Varias Lineas ####\n",
        "imagenVariasLineas = np.zeros((dimensionImagen, dimensionImagen), dtype=np.uint8)\n",
        "mostrarDFTyIDFT(imagenVariasLineas)\n",
        "\n",
        "#### Varias Lineas 45' ####\n",
        "imagenVariasLineas45 = np.zeros((dimensionImagen, dimensionImagen), dtype=np.uint8)\n",
        "mostrarDFTyIDFT(imagenVariasLineas45)\n",
        "\n",
        "#### Varias Lineas 90' ####\n",
        "imagenVariasLineas90 = np.zeros((dimensionImagen, dimensionImagen), dtype=np.uint8)\n",
        "mostrarDFTyIDFT(imagenVariasLineas90)\n"
      ]
    },
    {
      "cell_type": "markdown",
      "metadata": {
        "id": "tiEem7cr7Qg3"
      },
      "source": [
        "## Hacer la Transformada de Fourier de dos imágenes dadas (I1 e I2)\n",
        "\n",
        "1.   Visualizar el módulo y la fase de cada una\n",
        "2.   Realizar IDFS utilizando el modulo de I1 y la fase de I2\n",
        "3.   Realizar IDFS utilizando el modulo de I2 y la fase de I1\n",
        "\n",
        "Analizar el aporte del módulo y la fase en cada caso"
      ]
    },
    {
      "cell_type": "code",
      "execution_count": null,
      "metadata": {
        "id": "4_5A4vu18WoN"
      },
      "outputs": [],
      "source": [
        "imagenUnoFilename = os.path.join(\"/content/Imagenes\", 'cameraman.jpg')\n",
        "imagenUno = io.imread(imagenUnoFilename, as_gray=True)\n",
        "\n",
        "imagenDosFilename = os.path.join(\"/content/Imagenes\", 'einstein.jpg')\n",
        "imagenDos = io.imread(imagenDosFilename, as_gray=True)\n",
        "\n",
        "fig, axes = plt.subplots(3, 3, figsize=(10, 10))\n",
        "\n",
        "imagenUnoModulo, imagenUnoFase = DFT_2D(imagenUno)\n",
        "axes[0][0].imshow(imagenUno, cmap=plt.cm.gray)\n",
        "axes[0][1].imshow(imagenUnoModulo, cmap=plt.cm.gray)\n",
        "axes[0][2].imshow(imagenUnoFase, cmap=plt.cm.gray)\n",
        "\n",
        "### COMPLETAR ###\n",
        "\n",
        "fig.tight_layout()\n",
        "plt.show()\n"
      ]
    },
    {
      "cell_type": "markdown",
      "metadata": {
        "id": "sT8oNzyW-OAl"
      },
      "source": [
        "### Componer una imagen con Cameraman y líneas horizontales (sumarlas), y remover las líneas usando la transformada de Fourier."
      ]
    },
    {
      "cell_type": "code",
      "execution_count": null,
      "metadata": {
        "id": "0aOByIpq-ZgR"
      },
      "outputs": [],
      "source": [
        "# Abrir la imagen\n",
        "# Agregan las lineas horizontales\n",
        "# Realizan la transformacion de Fourier\n",
        "# Analizen las funciones devueltas y piensen si pueden detectar que frecuencia estan asociadas a las lineas\n",
        "# Eliminen las lineas\n",
        "# Ploteen el resutado en un subplot de 3, 2. La primer fila mostrando la imagen original, las lineas por separado y la composicion\n",
        "# La segunda fila mostrando la funcion el plano de modulo, fase y la imagen sin las lineas"
      ]
    }
  ],
  "metadata": {
    "colab": {
      "collapsed_sections": [
        "HaZLOjZ1wXFw"
      ],
      "provenance": []
    },
    "kernelspec": {
      "display_name": "Python 3",
      "name": "python3"
    },
    "language_info": {
      "codemirror_mode": {
        "name": "ipython",
        "version": 3
      },
      "file_extension": ".py",
      "mimetype": "text/x-python",
      "name": "python",
      "nbconvert_exporter": "python",
      "pygments_lexer": "ipython3",
      "version": "3.10.12"
    }
  },
  "nbformat": 4,
  "nbformat_minor": 0
}
